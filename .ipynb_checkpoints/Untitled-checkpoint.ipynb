{
 "cells": [
  {
   "cell_type": "code",
   "execution_count": 79,
   "id": "ad76c314",
   "metadata": {},
   "outputs": [],
   "source": [
    "import os\n",
    "import cv2\n",
    "import os\n",
    "import numpy as np\n",
    "import matplotlib.pyplot as plt\n",
    "from sklearn.cluster import KMeans\n",
    "NUM_CLUSTERS = 10\n",
    "relevant_path = \"/home/marcelo/Documents/Master_CV/M1/Team3/datasets/BBDD\"\n",
    "included_extensions = ['jpg']\n",
    "file_names = [fn for fn in os.listdir(relevant_path)\n",
    "              if any(fn.endswith(ext) for ext in included_extensions)]"
   ]
  },
  {
   "cell_type": "code",
   "execution_count": 80,
   "id": "977d37c1",
   "metadata": {},
   "outputs": [],
   "source": [
    "X_data = []\n",
    "for items in file_names:\n",
    "    filename = os.path.join(relevant_path,items)\n",
    "    #print(filename)\n",
    "    image = cv2.imread(filename)\n",
    "    image = resized = cv2.resize(image, (512,512), interpolation = cv2.INTER_AREA)\n",
    "    #print(image.shape)\n",
    "    X_data.append(image.reshape(-1))"
   ]
  },
  {
   "cell_type": "code",
   "execution_count": 70,
   "id": "4398c3d9",
   "metadata": {},
   "outputs": [
    {
     "data": {
      "text/plain": [
       "array([[100, 135, 164, ...,  23,  29,  36],\n",
       "       [159, 173, 191, ...,   5,   5,   9],\n",
       "       [ 67,  89, 117, ...,  36,  42,  53],\n",
       "       ...,\n",
       "       [126, 133, 136, ...,  33,  37,  38],\n",
       "       [ 45,  90, 114, ...,  83,  86,  74],\n",
       "       [ 64,  98, 110, ...,  41,  50,  54]], dtype=uint8)"
      ]
     },
     "execution_count": 70,
     "metadata": {},
     "output_type": "execute_result"
    }
   ],
   "source": [
    "np.array(X_data)\n"
   ]
  },
  {
   "cell_type": "code",
   "execution_count": 71,
   "id": "07b5df15",
   "metadata": {},
   "outputs": [],
   "source": [
    "data = np.array(X_data)"
   ]
  },
  {
   "cell_type": "code",
   "execution_count": 72,
   "id": "07cbc802",
   "metadata": {},
   "outputs": [
    {
     "data": {
      "text/plain": [
       "(287, 786432)"
      ]
     },
     "execution_count": 72,
     "metadata": {},
     "output_type": "execute_result"
    }
   ],
   "source": [
    "data.shape"
   ]
  },
  {
   "cell_type": "code",
   "execution_count": 73,
   "id": "e0b580d8",
   "metadata": {},
   "outputs": [
    {
     "data": {
      "text/plain": [
       "KMeans(n_clusters=10)"
      ]
     },
     "execution_count": 73,
     "metadata": {},
     "output_type": "execute_result"
    }
   ],
   "source": [
    "import cv2\n",
    "import os\n",
    "import numpy as np\n",
    "import matplotlib.pyplot as plt\n",
    "from sklearn.cluster import KMeans\n",
    "\n",
    "model = KMeans(n_clusters = NUM_CLUSTERS)\n",
    "model.fit(data)"
   ]
  },
  {
   "cell_type": "code",
   "execution_count": 75,
   "id": "b02eb8c2",
   "metadata": {},
   "outputs": [],
   "source": [
    "from sklearn.metrics import pairwise_distances\n",
    "\n",
    "distances = pairwise_distances(data, model.cluster_centers_, \n",
    "                               metric='cosine')\n",
    "ranking = np.argsort(distances, axis=0)"
   ]
  },
  {
   "cell_type": "code",
   "execution_count": 82,
   "id": "04978b44",
   "metadata": {},
   "outputs": [
    {
     "data": {
      "text/plain": [
       "(287, 10)"
      ]
     },
     "execution_count": 82,
     "metadata": {},
     "output_type": "execute_result"
    }
   ],
   "source": [
    "ranking.shape"
   ]
  },
  {
   "cell_type": "code",
   "execution_count": 77,
   "id": "fab77952",
   "metadata": {},
   "outputs": [],
   "source": [
    "dir_to_save = '/home/marcelo/Documents/Master_CV/M1/Team3/gallery/'\n",
    "num_to_save = 4\n",
    "for f in os.listdir(dir_to_save):\n",
    "    os.remove(os.path.join(dir_to_save, f))"
   ]
  },
  {
   "cell_type": "code",
   "execution_count": 86,
   "id": "68b49bb5",
   "metadata": {},
   "outputs": [
    {
     "name": "stdout",
     "output_type": "stream",
     "text": [
      "[ 73 182   9 148 213]\n",
      "[273  98 123  25 197]\n",
      "[142 222 110 171 220]\n",
      "[ 46 123 273 222 197]\n",
      "[171  78 127 167 218]\n",
      "[265 256  46  17  13]\n",
      "[196 256 223  17   1]\n",
      "[123 197  98 273  25]\n",
      "[ 46 171  13 110 238]\n",
      "[ 46  13 238 117 123]\n"
     ]
    }
   ],
   "source": [
    "for i in range(NUM_CLUSTERS):\n",
    "    positions = ranking[:5,i]\n",
    "    print(positions)\n",
    "    for position,image in enumerate(positions):\n",
    "        filename = file_names[image]\n",
    "        filename = os.path.join(relevant_path,filename)\n",
    "        image = cv2.imread(filename)\n",
    "        cv2.imwrite(os.path.join(dir_to_save,\"{}_top_{}_.png\".format(i,position)),image)\n",
    "        "
   ]
  },
  {
   "cell_type": "code",
   "execution_count": null,
   "id": "4b5d5240",
   "metadata": {},
   "outputs": [],
   "source": []
  }
 ],
 "metadata": {
  "kernelspec": {
   "display_name": "Python 3",
   "language": "python",
   "name": "python3"
  },
  "language_info": {
   "codemirror_mode": {
    "name": "ipython",
    "version": 3
   },
   "file_extension": ".py",
   "mimetype": "text/x-python",
   "name": "python",
   "nbconvert_exporter": "python",
   "pygments_lexer": "ipython3",
   "version": "3.6.13"
  }
 },
 "nbformat": 4,
 "nbformat_minor": 5
}
